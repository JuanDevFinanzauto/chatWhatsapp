{
 "cells": [
  {
   "cell_type": "code",
   "execution_count": 1,
   "metadata": {},
   "outputs": [],
   "source": [
    "import getpass\n",
    "import os\n",
    "from pydantic import BaseModel, Field, field_validator\n",
    "from typing import Optional\n",
    "from langgraph.graph import Graph\n",
    "from threading import Timer\n",
    "from typing import Optional, Annotated\n",
    "import time\n",
    "import os\n",
    "from langchain_groq import ChatGroq\n",
    "\n",
    "if \"GROQ_API_KEY\" not in os.environ:\n",
    "    os.environ[\"GROQ_API_KEY\"] = getpass.getpass(\"llmgsk_6QCRZZGxVnJEd9PVrxmfWGdyb3FYLMhr7XESbMf6LJeElvRKiy0C\")"
   ]
  },
  {
   "cell_type": "code",
   "execution_count": 2,
   "metadata": {},
   "outputs": [],
   "source": [
    "llm = ChatGroq(groq_api_key=os.environ['GROQ_API_KEY'], model_name=\"llama3-70b-8192\")"
   ]
  },
  {
   "cell_type": "code",
   "execution_count": 3,
   "metadata": {},
   "outputs": [],
   "source": [
    "class ChatGroqWrapper:\n",
    "    def __init__(self, groq_api_key, model_name):\n",
    "        self.groq_api_key = groq_api_key\n",
    "        self.model_name = model_name\n",
    "\n",
    "    def send_message(self, prompt):\n",
    "        print(f\"LLM ({self.model_name}): {prompt}\")"
   ]
  },
  {
   "cell_type": "code",
   "execution_count": 4,
   "metadata": {},
   "outputs": [],
   "source": [
    "class UserData(BaseModel):\n",
    "    user_id: str\n",
    "    start_time: float = Field(default_factory=lambda: time.time())\n",
    "    prompted: bool = False\n",
    "    completed: bool = False\n",
    "    rated: bool = False\n",
    "    rating_requested: bool = False\n",
    "    reminder_sent: int = 0"
   ]
  },
  {
   "cell_type": "code",
   "execution_count": 5,
   "metadata": {},
   "outputs": [],
   "source": [
    "class GraphState(BaseModel):\n",
    "    user_data: UserData\n",
    "    incoming_msg: Optional[str] = None\n",
    "    awaiting_response: bool = False\n",
    "    proceed_to_encuesta: bool = False\n",
    "    information_provided: bool = False\n",
    "    user_response: bool = False"
   ]
  },
  {
   "cell_type": "code",
   "execution_count": 6,
   "metadata": {},
   "outputs": [],
   "source": [
    "@field_validator('incoming_msg')\n",
    "def validate_message(cls, v):\n",
    "        if v and \"@\" in v and any(char.isdigit() for char in v):\n",
    "            return v\n",
    "        return v"
   ]
  },
  {
   "cell_type": "code",
   "execution_count": 7,
   "metadata": {},
   "outputs": [],
   "source": [
    "user_states = {}"
   ]
  },
  {
   "cell_type": "code",
   "execution_count": 8,
   "metadata": {},
   "outputs": [],
   "source": [
    "def validado(state: GraphState):\n",
    "    user_id = state.user_data.user_id\n",
    "    llm.send_message(f\"{user_id}, por favor proporciona tu documento y correo electrónico.\")\n",
    "    state.user_data.prompted = True\n",
    "    state.awaiting_response = True\n",
    "    return \"timer_5min\""
   ]
  },
  {
   "cell_type": "code",
   "execution_count": 9,
   "metadata": {},
   "outputs": [],
   "source": [
    "def timer_5min(state: GraphState):\n",
    "    user_id = state.user_data.user_id\n",
    "    \n",
    "    def reminder():\n",
    "        if not state.user_data.completed:\n",
    "            state.user_data.reminder_sent += 1\n",
    "            llm.send_message(f\"Recordatorio {state.user_data.reminder_sent}: No olvides proporcionar tu documento y correo electrónico.\")\n",
    "            \n",
    "            if state.user_data.reminder_sent < 2:\n",
    "                Timer(120, reminder).start()\n",
    "\n",
    "    Timer(120, reminder).start()\n",
    "    \n",
    "    def check_completion():\n",
    "        if state.user_data.completed:\n",
    "            state.information_provided = True\n",
    "            graph.transition_to(\"informacion\")  # Transición a 'informacion'\n",
    "        else:\n",
    "            state.proceed_to_encuesta = True\n",
    "            graph.transition_to(\"encuesta\")  # Transición a 'encuesta'\n",
    "    \n",
    "    Timer(300, check_completion).start()\n"
   ]
  },
  {
   "cell_type": "code",
   "execution_count": 10,
   "metadata": {},
   "outputs": [],
   "source": [
    "def informacion(state: GraphState):\n",
    "    user_id = state.user_data.user_id\n",
    "    llm.send_message(f\"{user_id}, gracias por proporcionar tu información. Ahora te proporcionaremos la información solicitada.\")\n",
    "    return \"encuesta\""
   ]
  },
  {
   "cell_type": "code",
   "execution_count": 11,
   "metadata": {},
   "outputs": [],
   "source": [
    "def encuesta(state: GraphState):\n",
    "    user_id = state.user_data.user_id\n",
    "    llm.send_message(f\"{user_id}, ¿cómo calificarías la información recibida? Responde con una cantidad de estrellas (1-5).\")\n",
    "    state.rating_requested = True"
   ]
  },
  {
   "cell_type": "code",
   "execution_count": 12,
   "metadata": {},
   "outputs": [],
   "source": [
    "graph = Graph()"
   ]
  },
  {
   "cell_type": "code",
   "execution_count": 13,
   "metadata": {},
   "outputs": [
    {
     "data": {
      "text/plain": [
       "<langgraph.graph.graph.Graph at 0x16632bada30>"
      ]
     },
     "execution_count": 13,
     "metadata": {},
     "output_type": "execute_result"
    }
   ],
   "source": [
    "graph.add_node(\"validado\", validado)\n",
    "graph.add_node(\"timer_5min\", timer_5min)\n",
    "graph.add_node(\"informacion\", informacion)\n",
    "graph.add_node(\"encuesta\", encuesta)"
   ]
  },
  {
   "cell_type": "code",
   "execution_count": 14,
   "metadata": {},
   "outputs": [
    {
     "data": {
      "text/plain": [
       "<langgraph.graph.graph.Graph at 0x16632bada30>"
      ]
     },
     "execution_count": 14,
     "metadata": {},
     "output_type": "execute_result"
    }
   ],
   "source": [
    "graph.add_edge(\"validado\", \"timer_5min\")\n",
    "graph.add_edge(\"informacion\", \"encuesta\")"
   ]
  },
  {
   "cell_type": "code",
   "execution_count": 15,
   "metadata": {},
   "outputs": [],
   "source": [
    "def run_graph(user_id, incoming_msg=None):\n",
    "    user_data = UserData(user_id=user_id)\n",
    "    initial_state = GraphState(user_data=user_data, incoming_msg=incoming_msg)\n",
    "\n",
    "    if user_id not in user_states:\n",
    "        user_states[user_id] = user_data\n",
    "        graph.run(start_node=\"validado\", state=initial_state)\n",
    "\n",
    "    if incoming_msg and \"@\" in incoming_msg and any(char.isdigit() for char in incoming_msg):\n",
    "        initial_state.user_data.completed = True\n",
    "        initial_state.awaiting_response = False\n",
    "        print(f\"{user_id} ha proporcionado la información correcta.\")"
   ]
  },
  {
   "cell_type": "code",
   "execution_count": 16,
   "metadata": {},
   "outputs": [
    {
     "ename": "ValueError",
     "evalue": "Node `validado` is not reachable",
     "output_type": "error",
     "traceback": [
      "\u001b[1;31m---------------------------------------------------------------------------\u001b[0m",
      "\u001b[1;31mValueError\u001b[0m                                Traceback (most recent call last)",
      "Cell \u001b[1;32mIn[16], line 1\u001b[0m\n\u001b[1;32m----> 1\u001b[0m app \u001b[38;5;241m=\u001b[39m \u001b[43mgraph\u001b[49m\u001b[38;5;241;43m.\u001b[39;49m\u001b[43mcompile\u001b[49m\u001b[43m(\u001b[49m\u001b[43m)\u001b[49m\n",
      "File \u001b[1;32mc:\\Users\\juan.infante\\AppData\\Local\\Programs\\Python\\Python312\\Lib\\site-packages\\langgraph\\graph\\graph.py:418\u001b[0m, in \u001b[0;36mGraph.compile\u001b[1;34m(self, checkpointer, interrupt_before, interrupt_after, debug)\u001b[0m\n\u001b[0;32m    415\u001b[0m interrupt_after \u001b[38;5;241m=\u001b[39m interrupt_after \u001b[38;5;129;01mor\u001b[39;00m []\n\u001b[0;32m    417\u001b[0m \u001b[38;5;66;03m# validate the graph\u001b[39;00m\n\u001b[1;32m--> 418\u001b[0m \u001b[38;5;28;43mself\u001b[39;49m\u001b[38;5;241;43m.\u001b[39;49m\u001b[43mvalidate\u001b[49m\u001b[43m(\u001b[49m\n\u001b[0;32m    419\u001b[0m \u001b[43m    \u001b[49m\u001b[43minterrupt\u001b[49m\u001b[38;5;241;43m=\u001b[39;49m\u001b[43m(\u001b[49m\n\u001b[0;32m    420\u001b[0m \u001b[43m        \u001b[49m\u001b[43m(\u001b[49m\u001b[43minterrupt_before\u001b[49m\u001b[43m \u001b[49m\u001b[38;5;28;43;01mif\u001b[39;49;00m\u001b[43m \u001b[49m\u001b[43minterrupt_before\u001b[49m\u001b[43m \u001b[49m\u001b[38;5;241;43m!=\u001b[39;49m\u001b[43m \u001b[49m\u001b[38;5;124;43m\"\u001b[39;49m\u001b[38;5;124;43m*\u001b[39;49m\u001b[38;5;124;43m\"\u001b[39;49m\u001b[43m \u001b[49m\u001b[38;5;28;43;01melse\u001b[39;49;00m\u001b[43m \u001b[49m\u001b[43m[\u001b[49m\u001b[43m]\u001b[49m\u001b[43m)\u001b[49m\u001b[43m \u001b[49m\u001b[38;5;241;43m+\u001b[39;49m\u001b[43m \u001b[49m\u001b[43minterrupt_after\u001b[49m\n\u001b[0;32m    421\u001b[0m \u001b[43m        \u001b[49m\u001b[38;5;28;43;01mif\u001b[39;49;00m\u001b[43m \u001b[49m\u001b[43minterrupt_after\u001b[49m\u001b[43m \u001b[49m\u001b[38;5;241;43m!=\u001b[39;49m\u001b[43m \u001b[49m\u001b[38;5;124;43m\"\u001b[39;49m\u001b[38;5;124;43m*\u001b[39;49m\u001b[38;5;124;43m\"\u001b[39;49m\n\u001b[0;32m    422\u001b[0m \u001b[43m        \u001b[49m\u001b[38;5;28;43;01melse\u001b[39;49;00m\u001b[43m \u001b[49m\u001b[43m[\u001b[49m\u001b[43m]\u001b[49m\n\u001b[0;32m    423\u001b[0m \u001b[43m    \u001b[49m\u001b[43m)\u001b[49m\n\u001b[0;32m    424\u001b[0m \u001b[43m\u001b[49m\u001b[43m)\u001b[49m\n\u001b[0;32m    426\u001b[0m \u001b[38;5;66;03m# create empty compiled graph\u001b[39;00m\n\u001b[0;32m    427\u001b[0m compiled \u001b[38;5;241m=\u001b[39m CompiledGraph(\n\u001b[0;32m    428\u001b[0m     builder\u001b[38;5;241m=\u001b[39m\u001b[38;5;28mself\u001b[39m,\n\u001b[0;32m    429\u001b[0m     nodes\u001b[38;5;241m=\u001b[39m{},\n\u001b[1;32m   (...)\u001b[0m\n\u001b[0;32m    439\u001b[0m     debug\u001b[38;5;241m=\u001b[39mdebug,\n\u001b[0;32m    440\u001b[0m )\n",
      "File \u001b[1;32mc:\\Users\\juan.infante\\AppData\\Local\\Programs\\Python\\Python312\\Lib\\site-packages\\langgraph\\graph\\graph.py:393\u001b[0m, in \u001b[0;36mGraph.validate\u001b[1;34m(self, interrupt)\u001b[0m\n\u001b[0;32m    391\u001b[0m \u001b[38;5;28;01mfor\u001b[39;00m node \u001b[38;5;129;01min\u001b[39;00m \u001b[38;5;28mself\u001b[39m\u001b[38;5;241m.\u001b[39mnodes:\n\u001b[0;32m    392\u001b[0m     \u001b[38;5;28;01mif\u001b[39;00m node \u001b[38;5;129;01mnot\u001b[39;00m \u001b[38;5;129;01min\u001b[39;00m all_targets:\n\u001b[1;32m--> 393\u001b[0m         \u001b[38;5;28;01mraise\u001b[39;00m \u001b[38;5;167;01mValueError\u001b[39;00m(\u001b[38;5;124mf\u001b[39m\u001b[38;5;124m\"\u001b[39m\u001b[38;5;124mNode `\u001b[39m\u001b[38;5;132;01m{\u001b[39;00mnode\u001b[38;5;132;01m}\u001b[39;00m\u001b[38;5;124m` is not reachable\u001b[39m\u001b[38;5;124m\"\u001b[39m)\n\u001b[0;32m    394\u001b[0m \u001b[38;5;28;01mfor\u001b[39;00m target \u001b[38;5;129;01min\u001b[39;00m all_targets:\n\u001b[0;32m    395\u001b[0m     \u001b[38;5;28;01mif\u001b[39;00m target \u001b[38;5;129;01mnot\u001b[39;00m \u001b[38;5;129;01min\u001b[39;00m \u001b[38;5;28mself\u001b[39m\u001b[38;5;241m.\u001b[39mnodes \u001b[38;5;129;01mand\u001b[39;00m target \u001b[38;5;241m!=\u001b[39m END:\n",
      "\u001b[1;31mValueError\u001b[0m: Node `validado` is not reachable"
     ]
    }
   ],
   "source": [
    "app = graph.compile()"
   ]
  }
 ],
 "metadata": {
  "kernelspec": {
   "display_name": "Python 3",
   "language": "python",
   "name": "python3"
  },
  "language_info": {
   "codemirror_mode": {
    "name": "ipython",
    "version": 3
   },
   "file_extension": ".py",
   "mimetype": "text/x-python",
   "name": "python",
   "nbconvert_exporter": "python",
   "pygments_lexer": "ipython3",
   "version": "3.12.6"
  }
 },
 "nbformat": 4,
 "nbformat_minor": 2
}
